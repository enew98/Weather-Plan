{
  "nbformat": 4,
  "nbformat_minor": 0,
  "metadata": {
    "colab": {
      "provenance": [],
      "authorship_tag": "ABX9TyOFu83rTcMgTOtqthjNFJC+",
      "include_colab_link": true
    },
    "kernelspec": {
      "name": "python3",
      "display_name": "Python 3"
    },
    "language_info": {
      "name": "python"
    }
  },
  "cells": [
    {
      "cell_type": "markdown",
      "metadata": {
        "id": "view-in-github",
        "colab_type": "text"
      },
      "source": [
        "<a href=\"https://colab.research.google.com/github/enew98/Weather-Plan/blob/add-py-workflow/weather_plan.ipynb\" target=\"_parent\"><img src=\"https://colab.research.google.com/assets/colab-badge.svg\" alt=\"Open In Colab\"/></a>"
      ]
    },
    {
      "cell_type": "code",
      "execution_count": 2,
      "metadata": {
        "colab": {
          "base_uri": "https://localhost:8080/"
        },
        "id": "uMmNTUyD5dN3",
        "outputId": "036ac8f5-230e-41b6-c02c-1c620cee09f4"
      },
      "outputs": [
        {
          "output_type": "stream",
          "name": "stdout",
          "text": [
            "Requirement already satisfied: geopy in /usr/local/lib/python3.10/dist-packages (2.4.1)\n",
            "Requirement already satisfied: geographiclib<3,>=1.52 in /usr/local/lib/python3.10/dist-packages (from geopy) (2.0)\n"
          ]
        }
      ],
      "source": [
        "pip install geopy"
      ]
    },
    {
      "cell_type": "code",
      "source": [
        "from geopy.geocoders import Nominatim\n",
        "geolocator = Nominatim(user_agent=\"Weather Plan\")\n",
        "userloc = input(\"Enter your location: \") # use: '175 5th Avenue NYC' as an example\n",
        "location = geolocator.geocode(userloc)\n",
        "print(location.address)\n",
        "print((location.latitude, location.longitude))"
      ],
      "metadata": {
        "colab": {
          "base_uri": "https://localhost:8080/"
        },
        "id": "0o7-XbPdJ4uH",
        "outputId": "f8a3dce3-e94d-4087-ebc8-a124e40e294a"
      },
      "execution_count": 7,
      "outputs": [
        {
          "output_type": "stream",
          "name": "stdout",
          "text": [
            "Enter your location: boston\n",
            "Boston, Suffolk County, Massachusetts, United States\n",
            "(42.3554334, -71.060511)\n"
          ]
        }
      ]
    },
    {
      "cell_type": "code",
      "source": [
        "!pip install requests import requests\n",
        "\n",
        "def nws(lat,long):\n",
        "  url = f\"https://api.weather.gov/points/{latitude},{longitude}\"\n",
        "  response = requests.get(url)\n",
        "  data = response.json()\n",
        "  forecast_url = data['properties']['forecastHourly']\n",
        "  return forecast_url"
      ],
      "metadata": {
        "colab": {
          "base_uri": "https://localhost:8080/"
        },
        "id": "XYkhYvnmZDnG",
        "outputId": "8a462f3a-582e-49d7-83f6-249d4f5ed78f"
      },
      "execution_count": 5,
      "outputs": [
        {
          "output_type": "stream",
          "name": "stdout",
          "text": [
            "Requirement already satisfied: requests in /usr/local/lib/python3.10/dist-packages (2.32.3)\n",
            "\u001b[31mERROR: Could not find a version that satisfies the requirement import (from versions: none)\u001b[0m\u001b[31m\n",
            "\u001b[0m\u001b[31mERROR: No matching distribution found for import\u001b[0m\u001b[31m\n",
            "\u001b[0m"
          ]
        }
      ]
    }
  ]
}